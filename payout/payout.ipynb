{
 "metadata": {
  "language_info": {
   "codemirror_mode": {
    "name": "ipython",
    "version": 3
   },
   "file_extension": ".py",
   "mimetype": "text/x-python",
   "name": "python",
   "nbconvert_exporter": "python",
   "pygments_lexer": "ipython3",
   "version": "3.9.5"
  },
  "orig_nbformat": 4,
  "kernelspec": {
   "name": "python3",
   "display_name": "Python 3.9.5 64-bit"
  },
  "interpreter": {
   "hash": "9ef881996440e47991ec8f5e8e48ec897df49313ee41a42c29906b10d4f0879a"
  }
 },
 "nbformat": 4,
 "nbformat_minor": 2,
 "cells": [
  {
   "cell_type": "code",
   "execution_count": 1,
   "metadata": {},
   "outputs": [],
   "source": [
    "import redis\n",
    "import re\n",
    "import requests\n",
    "import json\n",
    "import logging\n",
    "import sqlite3\n",
    "import uuid\n",
    "import pandas as pd\n",
    "\n",
    "from datetime import datetime"
   ]
  },
  {
   "cell_type": "code",
   "execution_count": 2,
   "metadata": {},
   "outputs": [],
   "source": [
    "logging.basicConfig(format='%(levelname)s:%(message)s', level=logging.DEBUG)"
   ]
  },
  {
   "cell_type": "code",
   "execution_count": 3,
   "metadata": {},
   "outputs": [
    {
     "output_type": "stream",
     "name": "stderr",
     "text": [
      "DEBUG:Starting new HTTP connection (1): localhost\n",
      "DEBUG:http://localhost:9053 \"GET /mining/rewardAddress HTTP/1.1\" 200 106\n",
      "DEBUG:Starting new HTTP connection (1): localhost\n",
      "DEBUG:http://localhost:9053 \"GET /wallet/transactions?minInclusionHeight=0 HTTP/1.1\" 200 1443119\n"
     ]
    }
   ],
   "source": [
    "api = 'localhost' # localhost\n",
    "rds = '6379'\n",
    "nod = '9053'\n",
    "fee = 0.007 # pool fee .7%\n",
    "hdr = {'api_key': 'oncejournalstrangeweather'}\n",
    "minPayout = 10\n",
    "\n",
    "red = redis.StrictRedis(host=api, port=rds, db=0, charset=\"utf-8\", decode_responses=True)\n",
    "adr = json.loads(requests.get(f'http://{api}:{nod}/mining/rewardAddress').content)['rewardAddress']\n",
    "xac = json.loads(requests.get(f'http://{api}:{nod}/wallet/transactions?minInclusionHeight=0', headers=hdr).content)"
   ]
  },
  {
   "cell_type": "code",
   "execution_count": 4,
   "metadata": {},
   "outputs": [],
   "source": [
    "db = 'payouts.db'\n",
    "tbl = 'payouts'\n",
    "con = sqlite3.connect(db)"
   ]
  },
  {
   "source": [
    "Handle, \"waiting\" status.  Using block/miner granularity, store: \n",
    "- worker\n",
    "- rig\n",
    "- block (aka height)\n",
    "- woker shares\n",
    "- worker ergs\n",
    "- block reward\n",
    "- fee\n",
    "- total shares for block\n",
    "- total ergs for block, after fee\n",
    "- timestamp for waiting status"
   ],
   "cell_type": "markdown",
   "metadata": {}
  },
  {
   "cell_type": "code",
   "execution_count": 5,
   "metadata": {
    "tags": [
     "outputPrepend"
    ]
   },
   "outputs": [
    {
     "output_type": "stream",
     "name": "stderr",
     "text": [
      " 1}}, '51992': {'3Wz2aYefHaT4VmDNEm53UTr5CwkTinJStNqUbHUJuM2SEAf51SMm': {'worker': '3Wz2aYefHaT4VmDNEm53UTr5CwkTinJStNqUbHUJuM2SEAf51SMm', 'rig': '', 'shares': 2}}, '52054': {'3WvsUJxRgFeDmiFVhmkA6ysqfmRYQwsrWK57Y7BnYEsGnvRTNRbY.leif': {'worker': '3WvsUJxRgFeDmiFVhmkA6ysqfmRYQwsrWK57Y7BnYEsGnvRTNRbY', 'rig': 'leif', 'shares': 1}}, '51986': {'3Wz2aYefHaT4VmDNEm53UTr5CwkTinJStNqUbHUJuM2SEAf51SMm': {'worker': '3Wz2aYefHaT4VmDNEm53UTr5CwkTinJStNqUbHUJuM2SEAf51SMm', 'rig': '', 'shares': 5}}, '52069': {'3WvsUJxRgFeDmiFVhmkA6ysqfmRYQwsrWK57Y7BnYEsGnvRTNRbY.leif': {'worker': '3WvsUJxRgFeDmiFVhmkA6ysqfmRYQwsrWK57Y7BnYEsGnvRTNRbY', 'rig': 'leif', 'shares': 2}}, '52007': {'3Wz2aYefHaT4VmDNEm53UTr5CwkTinJStNqUbHUJuM2SEAf51SMm': {'worker': '3Wz2aYefHaT4VmDNEm53UTr5CwkTinJStNqUbHUJuM2SEAf51SMm', 'rig': '', 'shares': 1}}, '51767': {'3WvsUJxRgFeDmiFVhmkA6ysqfmRYQwsrWK57Y7BnYEsGnvRTNRbY.leif': {'worker': '3WvsUJxRgFeDmiFVhmkA6ysqfmRYQwsrWK57Y7BnYEsGnvRTNRbY', 'rig': 'leif', 'shares': 1}}, '52016': {'3Wz2aYefHaT4VmDNEm53UTr5CwkTinJStNqUbHUJuM2SEAf51SMm': {'worker': '3Wz2aYefHaT4VmDNEm53UTr5CwkTinJStNqUbHUJuM2SEAf51SMm', 'rig': '', 'shares': 1}}, '52011': {'3Wz2aYefHaT4VmDNEm53UTr5CwkTinJStNqUbHUJuM2SEAf51SMm': {'worker': '3Wz2aYefHaT4VmDNEm53UTr5CwkTinJStNqUbHUJuM2SEAf51SMm', 'rig': '', 'shares': 1}}, '52036': {'3Wz2aYefHaT4VmDNEm53UTr5CwkTinJStNqUbHUJuM2SEAf51SMm': {'worker': '3Wz2aYefHaT4VmDNEm53UTr5CwkTinJStNqUbHUJuM2SEAf51SMm', 'rig': '', 'shares': 1}}, '52010': {'3Wz2aYefHaT4VmDNEm53UTr5CwkTinJStNqUbHUJuM2SEAf51SMm': {'worker': '3Wz2aYefHaT4VmDNEm53UTr5CwkTinJStNqUbHUJuM2SEAf51SMm', 'rig': '', 'shares': 4}}, '51993': {'3Wz2aYefHaT4VmDNEm53UTr5CwkTinJStNqUbHUJuM2SEAf51SMm': {'worker': '3Wz2aYefHaT4VmDNEm53UTr5CwkTinJStNqUbHUJuM2SEAf51SMm', 'rig': '', 'shares': 1}}, '52008': {'3Wz2aYefHaT4VmDNEm53UTr5CwkTinJStNqUbHUJuM2SEAf51SMm': {'worker': '3Wz2aYefHaT4VmDNEm53UTr5CwkTinJStNqUbHUJuM2SEAf51SMm', 'rig': '', 'shares': 1}}, '52064': {'3WvsUJxRgFeDmiFVhmkA6ysqfmRYQwsrWK57Y7BnYEsGnvRTNRbY.leif': {'worker': '3WvsUJxRgFeDmiFVhmkA6ysqfmRYQwsrWK57Y7BnYEsGnvRTNRbY', 'rig': 'leif', 'shares': 2}}, '52077': {'3WvsUJxRgFeDmiFVhmkA6ysqfmRYQwsrWK57Y7BnYEsGnvRTNRbY.leif': {'worker': '3WvsUJxRgFeDmiFVhmkA6ysqfmRYQwsrWK57Y7BnYEsGnvRTNRbY', 'rig': 'leif', 'shares': 1}}, '52045': {'3WvsUJxRgFeDmiFVhmkA6ysqfmRYQwsrWK57Y7BnYEsGnvRTNRbY.leif': {'worker': '3WvsUJxRgFeDmiFVhmkA6ysqfmRYQwsrWK57Y7BnYEsGnvRTNRbY', 'rig': 'leif', 'shares': 2}}, '52053': {'3WvsUJxRgFeDmiFVhmkA6ysqfmRYQwsrWK57Y7BnYEsGnvRTNRbY.leif': {'worker': '3WvsUJxRgFeDmiFVhmkA6ysqfmRYQwsrWK57Y7BnYEsGnvRTNRbY', 'rig': 'leif', 'shares': 1}}, '51997': {'3Wz2aYefHaT4VmDNEm53UTr5CwkTinJStNqUbHUJuM2SEAf51SMm': {'worker': '3Wz2aYefHaT4VmDNEm53UTr5CwkTinJStNqUbHUJuM2SEAf51SMm', 'rig': '', 'shares': 1}}, '52023': {'3Wz2aYefHaT4VmDNEm53UTr5CwkTinJStNqUbHUJuM2SEAf51SMm': {'worker': '3Wz2aYefHaT4VmDNEm53UTr5CwkTinJStNqUbHUJuM2SEAf51SMm', 'rig': '', 'shares': 1}}, '51768': {'3WvsUJxRgFeDmiFVhmkA6ysqfmRYQwsrWK57Y7BnYEsGnvRTNRbY.leif': {'worker': '3WvsUJxRgFeDmiFVhmkA6ysqfmRYQwsrWK57Y7BnYEsGnvRTNRbY', 'rig': 'leif', 'shares': 1}}, '52081': {'3WvsUJxRgFeDmiFVhmkA6ysqfmRYQwsrWK57Y7BnYEsGnvRTNRbY.leif': {'worker': '3WvsUJxRgFeDmiFVhmkA6ysqfmRYQwsrWK57Y7BnYEsGnvRTNRbY', 'rig': 'leif', 'shares': 1}}, '52038': {'3Wz2aYefHaT4VmDNEm53UTr5CwkTinJStNqUbHUJuM2SEAf51SMm': {'worker': '3Wz2aYefHaT4VmDNEm53UTr5CwkTinJStNqUbHUJuM2SEAf51SMm', 'rig': '', 'shares': 1}}, '52080': {'3WvsUJxRgFeDmiFVhmkA6ysqfmRYQwsrWK57Y7BnYEsGnvRTNRbY.leif': {'worker': '3WvsUJxRgFeDmiFVhmkA6ysqfmRYQwsrWK57Y7BnYEsGnvRTNRbY', 'rig': 'leif', 'shares': 1}}, '52056': {'3WvsUJxRgFeDmiFVhmkA6ysqfmRYQwsrWK57Y7BnYEsGnvRTNRbY.leif': {'worker': '3WvsUJxRgFeDmiFVhmkA6ysqfmRYQwsrWK57Y7BnYEsGnvRTNRbY', 'rig': 'leif', 'shares': 3}}, '51991': {'3Wz2aYefHaT4VmDNEm53UTr5CwkTinJStNqUbHUJuM2SEAf51SMm': {'worker': '3Wz2aYefHaT4VmDNEm53UTr5CwkTinJStNqUbHUJuM2SEAf51SMm', 'rig': '', 'shares': 5}}, '52018': {'3Wz2aYefHaT4VmDNEm53UTr5CwkTinJStNqUbHUJuM2SEAf51SMm': {'worker': '3Wz2aYefHaT4VmDNEm53UTr5CwkTinJStNqUbHUJuM2SEAf51SMm', 'rig': '', 'shares': 2}}, '52050': {'3WvsUJxRgFeDmiFVhmkA6ysqfmRYQwsrWK57Y7BnYEsGnvRTNRbY.leif': {'worker': '3WvsUJxRgFeDmiFVhmkA6ysqfmRYQwsrWK57Y7BnYEsGnvRTNRbY', 'rig': 'leif', 'shares': 2}}, '52073': {'3WvsUJxRgFeDmiFVhmkA6ysqfmRYQwsrWK57Y7BnYEsGnvRTNRbY.leif': {'worker': '3WvsUJxRgFeDmiFVhmkA6ysqfmRYQwsrWK57Y7BnYEsGnvRTNRbY', 'rig': 'leif', 'shares': 1}}, '52076': {'3WvsUJxRgFeDmiFVhmkA6ysqfmRYQwsrWK57Y7BnYEsGnvRTNRbY.leif': {'worker': '3WvsUJxRgFeDmiFVhmkA6ysqfmRYQwsrWK57Y7BnYEsGnvRTNRbY', 'rig': 'leif', 'shares': 1}}, '52072': {'3WvsUJxRgFeDmiFVhmkA6ysqfmRYQwsrWK57Y7BnYEsGnvRTNRbY.leif': {'worker': '3WvsUJxRgFeDmiFVhmkA6ysqfmRYQwsrWK57Y7BnYEsGnvRTNRbY', 'rig': 'leif', 'shares': 1}}, '52067': {'3WvsUJxRgFeDmiFVhmkA6ysqfmRYQwsrWK57Y7BnYEsGnvRTNRbY.leif': {'worker': '3WvsUJxRgFeDmiFVhmkA6ysqfmRYQwsrWK57Y7BnYEsGnvRTNRbY', 'rig': 'leif', 'shares': 2}}, '52009': {'3Wz2aYefHaT4VmDNEm53UTr5CwkTinJStNqUbHUJuM2SEAf51SMm': {'worker': '3Wz2aYefHaT4VmDNEm53UTr5CwkTinJStNqUbHUJuM2SEAf51SMm', 'rig': '', 'shares': 1}}, '52029': {'3Wz2aYefHaT4VmDNEm53UTr5CwkTinJStNqUbHUJuM2SEAf51SMm': {'worker': '3Wz2aYefHaT4VmDNEm53UTr5CwkTinJStNqUbHUJuM2SEAf51SMm', 'rig': '', 'shares': 1}}, '51765': {'3WvsUJxRgFeDmiFVhmkA6ysqfmRYQwsrWK57Y7BnYEsGnvRTNRbY.leif': {'worker': '3WvsUJxRgFeDmiFVhmkA6ysqfmRYQwsrWK57Y7BnYEsGnvRTNRbY', 'rig': 'leif', 'shares': 1}}, '52033': {'3Wz2aYefHaT4VmDNEm53UTr5CwkTinJStNqUbHUJuM2SEAf51SMm': {'worker': '3Wz2aYefHaT4VmDNEm53UTr5CwkTinJStNqUbHUJuM2SEAf51SMm', 'rig': '', 'shares': 2}}, '51999': {'3Wz2aYefHaT4VmDNEm53UTr5CwkTinJStNqUbHUJuM2SEAf51SMm': {'worker': '3Wz2aYefHaT4VmDNEm53UTr5CwkTinJStNqUbHUJuM2SEAf51SMm', 'rig': '', 'shares': 1}}, '52084': {'3WvsUJxRgFeDmiFVhmkA6ysqfmRYQwsrWK57Y7BnYEsGnvRTNRbY.leif': {'worker': '3WvsUJxRgFeDmiFVhmkA6ysqfmRYQwsrWK57Y7BnYEsGnvRTNRbY', 'rig': 'leif', 'shares': 1}}, '51994': {'3Wz2aYefHaT4VmDNEm53UTr5CwkTinJStNqUbHUJuM2SEAf51SMm': {'worker': '3Wz2aYefHaT4VmDNEm53UTr5CwkTinJStNqUbHUJuM2SEAf51SMm', 'rig': '', 'shares': 1}}, '51982': {'3WvsUJxRgFeDmiFVhmkA6ysqfmRYQwsrWK57Y7BnYEsGnvRTNRbY.leif': {'worker': '3WvsUJxRgFeDmiFVhmkA6ysqfmRYQwsrWK57Y7BnYEsGnvRTNRbY', 'rig': 'leif', 'shares': 1}, '3Wz2aYefHaT4VmDNEm53UTr5CwkTinJStNqUbHUJuM2SEAf51SMm': {'worker': '3Wz2aYefHaT4VmDNEm53UTr5CwkTinJStNqUbHUJuM2SEAf51SMm', 'rig': '', 'shares': 2}}, '52043': {'3WvsUJxRgFeDmiFVhmkA6ysqfmRYQwsrWK57Y7BnYEsGnvRTNRbY.leif': {'worker': '3WvsUJxRgFeDmiFVhmkA6ysqfmRYQwsrWK57Y7BnYEsGnvRTNRbY', 'rig': 'leif', 'shares': 1}}, '52055': {'3WvsUJxRgFeDmiFVhmkA6ysqfmRYQwsrWK57Y7BnYEsGnvRTNRbY.leif': {'worker': '3WvsUJxRgFeDmiFVhmkA6ysqfmRYQwsrWK57Y7BnYEsGnvRTNRbY', 'rig': 'leif', 'shares': 1}}, '52046': {'3WvsUJxRgFeDmiFVhmkA6ysqfmRYQwsrWK57Y7BnYEsGnvRTNRbY.leif': {'worker': '3WvsUJxRgFeDmiFVhmkA6ysqfmRYQwsrWK57Y7BnYEsGnvRTNRbY', 'rig': 'leif', 'shares': 4}}, '52071': {'3WvsUJxRgFeDmiFVhmkA6ysqfmRYQwsrWK57Y7BnYEsGnvRTNRbY.leif': {'worker': '3WvsUJxRgFeDmiFVhmkA6ysqfmRYQwsrWK57Y7BnYEsGnvRTNRbY', 'rig': 'leif', 'shares': 1}}, '52068': {'3WvsUJxRgFeDmiFVhmkA6ysqfmRYQwsrWK57Y7BnYEsGnvRTNRbY.leif': {'worker': '3WvsUJxRgFeDmiFVhmkA6ysqfmRYQwsrWK57Y7BnYEsGnvRTNRbY', 'rig': 'leif', 'shares': 1}}, '52002': {'3Wz2aYefHaT4VmDNEm53UTr5CwkTinJStNqUbHUJuM2SEAf51SMm': {'worker': '3Wz2aYefHaT4VmDNEm53UTr5CwkTinJStNqUbHUJuM2SEAf51SMm', 'rig': '', 'shares': 1}}, '52070': {'3WvsUJxRgFeDmiFVhmkA6ysqfmRYQwsrWK57Y7BnYEsGnvRTNRbY.leif': {'worker': '3WvsUJxRgFeDmiFVhmkA6ysqfmRYQwsrWK57Y7BnYEsGnvRTNRbY', 'rig': 'leif', 'shares': 2}}, '52075': {'3WvsUJxRgFeDmiFVhmkA6ysqfmRYQwsrWK57Y7BnYEsGnvRTNRbY.leif': {'worker': '3WvsUJxRgFeDmiFVhmkA6ysqfmRYQwsrWK57Y7BnYEsGnvRTNRbY', 'rig': 'leif', 'shares': 1}}, '52041': {'3WvsUJxRgFeDmiFVhmkA6ysqfmRYQwsrWK57Y7BnYEsGnvRTNRbY.leif': {'worker': '3WvsUJxRgFeDmiFVhmkA6ysqfmRYQwsrWK57Y7BnYEsGnvRTNRbY', 'rig': 'leif', 'shares': 2}}, '52085': {'3WvsUJxRgFeDmiFVhmkA6ysqfmRYQwsrWK57Y7BnYEsGnvRTNRbY.leif': {'worker': '3WvsUJxRgFeDmiFVhmkA6ysqfmRYQwsrWK57Y7BnYEsGnvRTNRbY', 'rig': 'leif', 'shares': 1}}, '51766': {'3WvsUJxRgFeDmiFVhmkA6ysqfmRYQwsrWK57Y7BnYEsGnvRTNRbY.leif': {'worker': '3WvsUJxRgFeDmiFVhmkA6ysqfmRYQwsrWK57Y7BnYEsGnvRTNRbY', 'rig': 'leif', 'shares': 1}}, '52022': {'3Wz2aYefHaT4VmDNEm53UTr5CwkTinJStNqUbHUJuM2SEAf51SMm': {'worker': '3Wz2aYefHaT4VmDNEm53UTr5CwkTinJStNqUbHUJuM2SEAf51SMm', 'rig': '', 'shares': 1}}, '51995': {'3Wz2aYefHaT4VmDNEm53UTr5CwkTinJStNqUbHUJuM2SEAf51SMm': {'worker': '3Wz2aYefHaT4VmDNEm53UTr5CwkTinJStNqUbHUJuM2SEAf51SMm', 'rig': '', 'shares': 2}}, '52058': {'3WvsUJxRgFeDmiFVhmkA6ysqfmRYQwsrWK57Y7BnYEsGnvRTNRbY.leif': {'worker': '3WvsUJxRgFeDmiFVhmkA6ysqfmRYQwsrWK57Y7BnYEsGnvRTNRbY', 'rig': 'leif', 'shares': 1}}, '52039': {'3WvsUJxRgFeDmiFVhmkA6ysqfmRYQwsrWK57Y7BnYEsGnvRTNRbY.leif': {'worker': '3WvsUJxRgFeDmiFVhmkA6ysqfmRYQwsrWK57Y7BnYEsGnvRTNRbY', 'rig': 'leif', 'shares': 1}}, '51996': {'3Wz2aYefHaT4VmDNEm53UTr5CwkTinJStNqUbHUJuM2SEAf51SMm': {'worker': '3Wz2aYefHaT4VmDNEm53UTr5CwkTinJStNqUbHUJuM2SEAf51SMm', 'rig': '', 'shares': 1}}, '52017': {'3Wz2aYefHaT4VmDNEm53UTr5CwkTinJStNqUbHUJuM2SEAf51SMm': {'worker': '3Wz2aYefHaT4VmDNEm53UTr5CwkTinJStNqUbHUJuM2SEAf51SMm', 'rig': '', 'shares': 1}}, '52019': {'3Wz2aYefHaT4VmDNEm53UTr5CwkTinJStNqUbHUJuM2SEAf51SMm': {'worker': '3Wz2aYefHaT4VmDNEm53UTr5CwkTinJStNqUbHUJuM2SEAf51SMm', 'rig': '', 'shares': 1}}}\n",
      "DEBUG:{'52034': {'totalShares': 2, 'fee': 0.007, 'rewardAmount_sat': 0, 'totalAmountAfterFee_sat': 0}, '51985': {'totalShares': 1, 'fee': 0.007, 'rewardAmount_sat': 0, 'totalAmountAfterFee_sat': 0}, '51763': {'totalShares': 2, 'fee': 0.007, 'rewardAmount_sat': 0, 'totalAmountAfterFee_sat': 0}, '52057': {'totalShares': 1, 'fee': 0.007, 'rewardAmount_sat': 0, 'totalAmountAfterFee_sat': 0}, '51988': {'totalShares': 2, 'fee': 0.007, 'rewardAmount_sat': 0, 'totalAmountAfterFee_sat': 0}, '52027': {'totalShares': 1, 'fee': 0.007, 'rewardAmount_sat': 0, 'totalAmountAfterFee_sat': 0}, '52024': {'totalShares': 1, 'fee': 0.007, 'rewardAmount_sat': 0, 'totalAmountAfterFee_sat': 0}, '52060': {'totalShares': 1, 'fee': 0.007, 'rewardAmount_sat': 0, 'totalAmountAfterFee_sat': 0}, '51989': {'totalShares': 1, 'fee': 0.007, 'rewardAmount_sat': 0, 'totalAmountAfterFee_sat': 0}, '52040': {'totalShares': 3, 'fee': 0.007, 'rewardAmount_sat': 0, 'totalAmountAfterFee_sat': 0}, '52065': {'totalShares': 3, 'fee': 0.007, 'rewardAmount_sat': 0, 'totalAmountAfterFee_sat': 0}, '52061': {'totalShares': 2, 'fee': 0.007, 'rewardAmount_sat': 0, 'totalAmountAfterFee_sat': 0}, '52005': {'totalShares': 1, 'fee': 0.007, 'rewardAmount_sat': 0, 'totalAmountAfterFee_sat': 0}, '52037': {'totalShares': 1, 'fee': 0.007, 'rewardAmount_sat': 0, 'totalAmountAfterFee_sat': 0}, '51983': {'totalShares': 2, 'fee': 0.007, 'rewardAmount_sat': 0, 'totalAmountAfterFee_sat': 0}, '52052': {'totalShares': 1, 'fee': 0.007, 'rewardAmount_sat': 0, 'totalAmountAfterFee_sat': 0}, '51998': {'totalShares': 1, 'fee': 0.007, 'rewardAmount_sat': 0, 'totalAmountAfterFee_sat': 0}, '52079': {'totalShares': 1, 'fee': 0.007, 'rewardAmount_sat': 0, 'totalAmountAfterFee_sat': 0}, '52048': {'totalShares': 2, 'fee': 0.007, 'rewardAmount_sat': 0, 'totalAmountAfterFee_sat': 0}, '52047': {'totalShares': 2, 'fee': 0.007, 'rewardAmount_sat': 0, 'totalAmountAfterFee_sat': 0}, '52074': {'totalShares': 1, 'fee': 0.007, 'rewardAmount_sat': 0, 'totalAmountAfterFee_sat': 0}, '52083': {'totalShares': 3, 'fee': 0.007, 'rewardAmount_sat': 0, 'totalAmountAfterFee_sat': 0}, '52004': {'totalShares': 1, 'fee': 0.007, 'rewardAmount_sat': 0, 'totalAmountAfterFee_sat': 0}, '51987': {'totalShares': 2, 'fee': 0.007, 'rewardAmount_sat': 0, 'totalAmountAfterFee_sat': 0}, '52044': {'totalShares': 2, 'fee': 0.007, 'rewardAmount_sat': 0, 'totalAmountAfterFee_sat': 0}, '52000': {'totalShares': 1, 'fee': 0.007, 'rewardAmount_sat': 0, 'totalAmountAfterFee_sat': 0}, '52025': {'totalShares': 1, 'fee': 0.007, 'rewardAmount_sat': 0, 'totalAmountAfterFee_sat': 0}, '52031': {'totalShares': 2, 'fee': 0.007, 'rewardAmount_sat': 0, 'totalAmountAfterFee_sat': 0}, '52020': {'totalShares': 1, 'fee': 0.007, 'rewardAmount_sat': 0, 'totalAmountAfterFee_sat': 0}, '51984': {'totalShares': 2, 'fee': 0.007, 'rewardAmount_sat': 0, 'totalAmountAfterFee_sat': 0}, '52026': {'totalShares': 3, 'fee': 0.007, 'rewardAmount_sat': 0, 'totalAmountAfterFee_sat': 0}, '52001': {'totalShares': 2, 'fee': 0.007, 'rewardAmount_sat': 0, 'totalAmountAfterFee_sat': 0}, '52086': {'totalShares': 2, 'fee': 0.007, 'rewardAmount_sat': 0, 'totalAmountAfterFee_sat': 0}, '51762': {'totalShares': 2, 'fee': 0.007, 'rewardAmount_sat': 0, 'totalAmountAfterFee_sat': 0}, '52062': {'totalShares': 1, 'fee': 0.007, 'rewardAmount_sat': 0, 'totalAmountAfterFee_sat': 0}, '52042': {'totalShares': 1, 'fee': 0.007, 'rewardAmount_sat': 0, 'totalAmountAfterFee_sat': 0}, '52059': {'totalShares': 1, 'fee': 0.007, 'rewardAmount_sat': 0, 'totalAmountAfterFee_sat': 0}, '52015': {'totalShares': 1, 'fee': 0.007, 'rewardAmount_sat': 0, 'totalAmountAfterFee_sat': 0}, '52035': {'totalShares': 1, 'fee': 0.007, 'rewardAmount_sat': 0, 'totalAmountAfterFee_sat': 0}, '52078': {'totalShares': 1, 'fee': 0.007, 'rewardAmount_sat': 0, 'totalAmountAfterFee_sat': 0}, '51990': {'totalShares': 2, 'fee': 0.007, 'rewardAmount_sat': 0, 'totalAmountAfterFee_sat': 0}, '52006': {'totalShares': 1, 'fee': 0.007, 'rewardAmount_sat': 0, 'totalAmountAfterFee_sat': 0}, '52082': {'totalShares': 1, 'fee': 0.007, 'rewardAmount_sat': 0, 'totalAmountAfterFee_sat': 0}, '52028': {'totalShares': 1, 'fee': 0.007, 'rewardAmount_sat': 0, 'totalAmountAfterFee_sat': 0}, '52049': {'totalShares': 1, 'fee': 0.007, 'rewardAmount_sat': 0, 'totalAmountAfterFee_sat': 0}, '52063': {'totalShares': 1, 'fee': 0.007, 'rewardAmount_sat': 0, 'totalAmountAfterFee_sat': 0}, '52030': {'totalShares': 2, 'fee': 0.007, 'rewardAmount_sat': 0, 'totalAmountAfterFee_sat': 0}, '52032': {'totalShares': 1, 'fee': 0.007, 'rewardAmount_sat': 0, 'totalAmountAfterFee_sat': 0}, '52012': {'totalShares': 1, 'fee': 0.007, 'rewardAmount_sat': 0, 'totalAmountAfterFee_sat': 0}, '52066': {'totalShares': 1, 'fee': 0.007, 'rewardAmount_sat': 0, 'totalAmountAfterFee_sat': 0}, '52003': {'totalShares': 1, 'fee': 0.007, 'rewardAmount_sat': 0, 'totalAmountAfterFee_sat': 0}, '52013': {'totalShares': 1, 'fee': 0.007, 'rewardAmount_sat': 0, 'totalAmountAfterFee_sat': 0}, '52014': {'totalShares': 1, 'fee': 0.007, 'rewardAmount_sat': 0, 'totalAmountAfterFee_sat': 0}, '52021': {'totalShares': 5, 'fee': 0.007, 'rewardAmount_sat': 0, 'totalAmountAfterFee_sat': 0}, '52051': {'totalShares': 1, 'fee': 0.007, 'rewardAmount_sat': 0, 'totalAmountAfterFee_sat': 0}, '51992': {'totalShares': 2, 'fee': 0.007, 'rewardAmount_sat': 0, 'totalAmountAfterFee_sat': 0}, '52054': {'totalShares': 1, 'fee': 0.007, 'rewardAmount_sat': 0, 'totalAmountAfterFee_sat': 0}, '51986': {'totalShares': 5, 'fee': 0.007, 'rewardAmount_sat': 0, 'totalAmountAfterFee_sat': 0}, '52069': {'totalShares': 2, 'fee': 0.007, 'rewardAmount_sat': 0, 'totalAmountAfterFee_sat': 0}, '52007': {'totalShares': 1, 'fee': 0.007, 'rewardAmount_sat': 0, 'totalAmountAfterFee_sat': 0}, '51767': {'totalShares': 1, 'fee': 0.007, 'rewardAmount_sat': 0, 'totalAmountAfterFee_sat': 0}, '52016': {'totalShares': 1, 'fee': 0.007, 'rewardAmount_sat': 0, 'totalAmountAfterFee_sat': 0}, '52011': {'totalShares': 1, 'fee': 0.007, 'rewardAmount_sat': 0, 'totalAmountAfterFee_sat': 0}, '52036': {'totalShares': 1, 'fee': 0.007, 'rewardAmount_sat': 0, 'totalAmountAfterFee_sat': 0}, '52010': {'totalShares': 4, 'fee': 0.007, 'rewardAmount_sat': 0, 'totalAmountAfterFee_sat': 0}, '51993': {'totalShares': 1, 'fee': 0.007, 'rewardAmount_sat': 0, 'totalAmountAfterFee_sat': 0}, '52008': {'totalShares': 1, 'fee': 0.007, 'rewardAmount_sat': 0, 'totalAmountAfterFee_sat': 0}, '52064': {'totalShares': 2, 'fee': 0.007, 'rewardAmount_sat': 0, 'totalAmountAfterFee_sat': 0}, '52077': {'totalShares': 1, 'fee': 0.007, 'rewardAmount_sat': 0, 'totalAmountAfterFee_sat': 0}, '52045': {'totalShares': 2, 'fee': 0.007, 'rewardAmount_sat': 0, 'totalAmountAfterFee_sat': 0}, '52053': {'totalShares': 1, 'fee': 0.007, 'rewardAmount_sat': 0, 'totalAmountAfterFee_sat': 0}, '51997': {'totalShares': 1, 'fee': 0.007, 'rewardAmount_sat': 0, 'totalAmountAfterFee_sat': 0}, '52023': {'totalShares': 1, 'fee': 0.007, 'rewardAmount_sat': 0, 'totalAmountAfterFee_sat': 0}, '51768': {'totalShares': 1, 'fee': 0.007, 'rewardAmount_sat': 0, 'totalAmountAfterFee_sat': 0}, '52081': {'totalShares': 1, 'fee': 0.007, 'rewardAmount_sat': 0, 'totalAmountAfterFee_sat': 0}, '52038': {'totalShares': 1, 'fee': 0.007, 'rewardAmount_sat': 0, 'totalAmountAfterFee_sat': 0}, '52080': {'totalShares': 1, 'fee': 0.007, 'rewardAmount_sat': 0, 'totalAmountAfterFee_sat': 0}, '52056': {'totalShares': 3, 'fee': 0.007, 'rewardAmount_sat': 0, 'totalAmountAfterFee_sat': 0}, '51991': {'totalShares': 5, 'fee': 0.007, 'rewardAmount_sat': 0, 'totalAmountAfterFee_sat': 0}, '52018': {'totalShares': 2, 'fee': 0.007, 'rewardAmount_sat': 0, 'totalAmountAfterFee_sat': 0}, '52050': {'totalShares': 2, 'fee': 0.007, 'rewardAmount_sat': 0, 'totalAmountAfterFee_sat': 0}, '52073': {'totalShares': 1, 'fee': 0.007, 'rewardAmount_sat': 0, 'totalAmountAfterFee_sat': 0}, '52076': {'totalShares': 1, 'fee': 0.007, 'rewardAmount_sat': 0, 'totalAmountAfterFee_sat': 0}, '52072': {'totalShares': 1, 'fee': 0.007, 'rewardAmount_sat': 0, 'totalAmountAfterFee_sat': 0}, '52067': {'totalShares': 2, 'fee': 0.007, 'rewardAmount_sat': 0, 'totalAmountAfterFee_sat': 0}, '52009': {'totalShares': 1, 'fee': 0.007, 'rewardAmount_sat': 0, 'totalAmountAfterFee_sat': 0}, '52029': {'totalShares': 1, 'fee': 0.007, 'rewardAmount_sat': 0, 'totalAmountAfterFee_sat': 0}, '51765': {'totalShares': 1, 'fee': 0.007, 'rewardAmount_sat': 0, 'totalAmountAfterFee_sat': 0}, '52033': {'totalShares': 2, 'fee': 0.007, 'rewardAmount_sat': 0, 'totalAmountAfterFee_sat': 0}, '51999': {'totalShares': 1, 'fee': 0.007, 'rewardAmount_sat': 0, 'totalAmountAfterFee_sat': 0}, '52084': {'totalShares': 1, 'fee': 0.007, 'rewardAmount_sat': 0, 'totalAmountAfterFee_sat': 0}, '51994': {'totalShares': 1, 'fee': 0.007, 'rewardAmount_sat': 0, 'totalAmountAfterFee_sat': 0}, '51982': {'totalShares': 3, 'fee': 0.007, 'rewardAmount_sat': 0, 'totalAmountAfterFee_sat': 0}, '52043': {'totalShares': 1, 'fee': 0.007, 'rewardAmount_sat': 0, 'totalAmountAfterFee_sat': 0}, '52055': {'totalShares': 1, 'fee': 0.007, 'rewardAmount_sat': 0, 'totalAmountAfterFee_sat': 0}, '52046': {'totalShares': 4, 'fee': 0.007, 'rewardAmount_sat': 0, 'totalAmountAfterFee_sat': 0}, '52071': {'totalShares': 1, 'fee': 0.007, 'rewardAmount_sat': 0, 'totalAmountAfterFee_sat': 0}, '52068': {'totalShares': 1, 'fee': 0.007, 'rewardAmount_sat': 0, 'totalAmountAfterFee_sat': 0}, '52002': {'totalShares': 1, 'fee': 0.007, 'rewardAmount_sat': 0, 'totalAmountAfterFee_sat': 0}, '52070': {'totalShares': 2, 'fee': 0.007, 'rewardAmount_sat': 0, 'totalAmountAfterFee_sat': 0}, '52075': {'totalShares': 1, 'fee': 0.007, 'rewardAmount_sat': 0, 'totalAmountAfterFee_sat': 0}, '52041': {'totalShares': 2, 'fee': 0.007, 'rewardAmount_sat': 0, 'totalAmountAfterFee_sat': 0}, '52085': {'totalShares': 1, 'fee': 0.007, 'rewardAmount_sat': 0, 'totalAmountAfterFee_sat': 0}, '51766': {'totalShares': 1, 'fee': 0.007, 'rewardAmount_sat': 0, 'totalAmountAfterFee_sat': 0}, '52022': {'totalShares': 1, 'fee': 0.007, 'rewardAmount_sat': 0, 'totalAmountAfterFee_sat': 0}, '51995': {'totalShares': 2, 'fee': 0.007, 'rewardAmount_sat': 0, 'totalAmountAfterFee_sat': 0}, '52058': {'totalShares': 1, 'fee': 0.007, 'rewardAmount_sat': 0, 'totalAmountAfterFee_sat': 0}, '52039': {'totalShares': 1, 'fee': 0.007, 'rewardAmount_sat': 0, 'totalAmountAfterFee_sat': 0}, '51996': {'totalShares': 1, 'fee': 0.007, 'rewardAmount_sat': 0, 'totalAmountAfterFee_sat': 0}, '52017': {'totalShares': 1, 'fee': 0.007, 'rewardAmount_sat': 0, 'totalAmountAfterFee_sat': 0}, '52019': {'totalShares': 1, 'fee': 0.007, 'rewardAmount_sat': 0, 'totalAmountAfterFee_sat': 0}}\n"
     ]
    }
   ],
   "source": [
    "# miner = worker.rig\n",
    "miners = {}\n",
    "blocks = {}\n",
    "\n",
    "# search all redis keys in this format\n",
    "for k in red.keys(): \n",
    "    \n",
    "    # match format using regex\n",
    "    m = re.search('^ergo:shares:round(?P<round>\\d+)$', k)\n",
    "    if m:\n",
    "        round = m.group('round')\n",
    "        miners[round] = {}\n",
    "        blocks[round] = {}\n",
    "        blocks[round]['totalShares'] = 0\n",
    "        blocks[round]['fee'] = fee\n",
    "        blocks[round]['rewardAmount_sat'] = 0\n",
    "        blocks[round]['totalAmountAfterFee_sat'] = 0\n",
    "        \n",
    "        # now sum shares by miner\n",
    "        shares = red.hgetall(f'ergo:shares:round{round}')\n",
    "        for s in shares:\n",
    "            share = int(shares[s])\n",
    "            blocks[round]['totalShares'] += share\n",
    "            try: \n",
    "                if s in miners[round]:\n",
    "                    miners[round][s] += share # add shares\n",
    "                else:\n",
    "                    miners[round][s] = share # add shares\n",
    "            except ValueError: \n",
    "                logging.error('not an int')\n",
    "            miners[round][s] = {}\n",
    "            miners[round][s]['worker'] = s.split('.')[0]\n",
    "            if len(s.split('.')) == 2: \n",
    "                miners[round][s]['rig'] = s.split('.')[1]\n",
    "            else:\n",
    "                miners[round][s]['rig'] = ''\n",
    "            miners[round][s]['shares'] = share # add shares\n",
    "\n",
    "# fin\n",
    "logging.debug(miners)\n",
    "logging.debug(blocks)"
   ]
  },
  {
   "source": [
    "for x in xac:\n",
    "\n",
    "    # search all transactions for payments to reward address\n",
    "    for o in x['outputs']:    \n",
    "\n",
    "        # only accept with scans=9\n",
    "        if 9 in x['scans']:\n",
    "\n",
    "            # transaction details\n",
    "            if o['address'] == adr:\n",
    "                \n",
    "                round = str(o['creationHeight'])\n",
    "                if round in blocks:                    \n",
    "                    blocks[round]['rewardAmount_sat'] = int(o['value']) or 0 # satoshis\n",
    "                    blocks[round]['totalAmountAfterFee_sat'] = int(o['value'] - o['value']*fee) or 0\n",
    "\n",
    "# fin\n",
    "logging.debug(blocks)"
   ],
   "cell_type": "code",
   "metadata": {},
   "execution_count": 6,
   "outputs": [
    {
     "output_type": "stream",
     "name": "stderr",
     "text": [
      "DEBUG:{'52034': {'totalShares': 2, 'fee': 0.007, 'rewardAmount_sat': 67500000000, 'totalAmountAfterFee_sat': 67027500000}, '51985': {'totalShares': 1, 'fee': 0.007, 'rewardAmount_sat': 67500000000, 'totalAmountAfterFee_sat': 67027500000}, '51763': {'totalShares': 2, 'fee': 0.007, 'rewardAmount_sat': 67500000000, 'totalAmountAfterFee_sat': 67027500000}, '52057': {'totalShares': 1, 'fee': 0.007, 'rewardAmount_sat': 67500000000, 'totalAmountAfterFee_sat': 67027500000}, '51988': {'totalShares': 2, 'fee': 0.007, 'rewardAmount_sat': 67500000000, 'totalAmountAfterFee_sat': 67027500000}, '52027': {'totalShares': 1, 'fee': 0.007, 'rewardAmount_sat': 67500000000, 'totalAmountAfterFee_sat': 67027500000}, '52024': {'totalShares': 1, 'fee': 0.007, 'rewardAmount_sat': 67500000000, 'totalAmountAfterFee_sat': 67027500000}, '52060': {'totalShares': 1, 'fee': 0.007, 'rewardAmount_sat': 67500000000, 'totalAmountAfterFee_sat': 67027500000}, '51989': {'totalShares': 1, 'fee': 0.007, 'rewardAmount_sat': 67500000000, 'totalAmountAfterFee_sat': 67027500000}, '52040': {'totalShares': 3, 'fee': 0.007, 'rewardAmount_sat': 67500000000, 'totalAmountAfterFee_sat': 67027500000}, '52065': {'totalShares': 3, 'fee': 0.007, 'rewardAmount_sat': 67500000000, 'totalAmountAfterFee_sat': 67027500000}, '52061': {'totalShares': 2, 'fee': 0.007, 'rewardAmount_sat': 67500000000, 'totalAmountAfterFee_sat': 67027500000}, '52005': {'totalShares': 1, 'fee': 0.007, 'rewardAmount_sat': 67500000000, 'totalAmountAfterFee_sat': 67027500000}, '52037': {'totalShares': 1, 'fee': 0.007, 'rewardAmount_sat': 67500000000, 'totalAmountAfterFee_sat': 67027500000}, '51983': {'totalShares': 2, 'fee': 0.007, 'rewardAmount_sat': 67500000000, 'totalAmountAfterFee_sat': 67027500000}, '52052': {'totalShares': 1, 'fee': 0.007, 'rewardAmount_sat': 67500000000, 'totalAmountAfterFee_sat': 67027500000}, '51998': {'totalShares': 1, 'fee': 0.007, 'rewardAmount_sat': 67500000000, 'totalAmountAfterFee_sat': 67027500000}, '52079': {'totalShares': 1, 'fee': 0.007, 'rewardAmount_sat': 67500000000, 'totalAmountAfterFee_sat': 67027500000}, '52048': {'totalShares': 2, 'fee': 0.007, 'rewardAmount_sat': 67500000000, 'totalAmountAfterFee_sat': 67027500000}, '52047': {'totalShares': 2, 'fee': 0.007, 'rewardAmount_sat': 67500000000, 'totalAmountAfterFee_sat': 67027500000}, '52074': {'totalShares': 1, 'fee': 0.007, 'rewardAmount_sat': 67500000000, 'totalAmountAfterFee_sat': 67027500000}, '52083': {'totalShares': 3, 'fee': 0.007, 'rewardAmount_sat': 67500000000, 'totalAmountAfterFee_sat': 67027500000}, '52004': {'totalShares': 1, 'fee': 0.007, 'rewardAmount_sat': 67500000000, 'totalAmountAfterFee_sat': 67027500000}, '51987': {'totalShares': 2, 'fee': 0.007, 'rewardAmount_sat': 67500000000, 'totalAmountAfterFee_sat': 67027500000}, '52044': {'totalShares': 2, 'fee': 0.007, 'rewardAmount_sat': 67500000000, 'totalAmountAfterFee_sat': 67027500000}, '52000': {'totalShares': 1, 'fee': 0.007, 'rewardAmount_sat': 67500000000, 'totalAmountAfterFee_sat': 67027500000}, '52025': {'totalShares': 1, 'fee': 0.007, 'rewardAmount_sat': 67500000000, 'totalAmountAfterFee_sat': 67027500000}, '52031': {'totalShares': 2, 'fee': 0.007, 'rewardAmount_sat': 67500000000, 'totalAmountAfterFee_sat': 67027500000}, '52020': {'totalShares': 1, 'fee': 0.007, 'rewardAmount_sat': 67500000000, 'totalAmountAfterFee_sat': 67027500000}, '51984': {'totalShares': 2, 'fee': 0.007, 'rewardAmount_sat': 67500000000, 'totalAmountAfterFee_sat': 67027500000}, '52026': {'totalShares': 3, 'fee': 0.007, 'rewardAmount_sat': 67500000000, 'totalAmountAfterFee_sat': 67027500000}, '52001': {'totalShares': 2, 'fee': 0.007, 'rewardAmount_sat': 67500000000, 'totalAmountAfterFee_sat': 67027500000}, '52086': {'totalShares': 2, 'fee': 0.007, 'rewardAmount_sat': 67500000000, 'totalAmountAfterFee_sat': 67027500000}, '51762': {'totalShares': 2, 'fee': 0.007, 'rewardAmount_sat': 67500000000, 'totalAmountAfterFee_sat': 67027500000}, '52062': {'totalShares': 1, 'fee': 0.007, 'rewardAmount_sat': 67500000000, 'totalAmountAfterFee_sat': 67027500000}, '52042': {'totalShares': 1, 'fee': 0.007, 'rewardAmount_sat': 67500000000, 'totalAmountAfterFee_sat': 67027500000}, '52059': {'totalShares': 1, 'fee': 0.007, 'rewardAmount_sat': 67500000000, 'totalAmountAfterFee_sat': 67027500000}, '52015': {'totalShares': 1, 'fee': 0.007, 'rewardAmount_sat': 67500000000, 'totalAmountAfterFee_sat': 67027500000}, '52035': {'totalShares': 1, 'fee': 0.007, 'rewardAmount_sat': 67500000000, 'totalAmountAfterFee_sat': 67027500000}, '52078': {'totalShares': 1, 'fee': 0.007, 'rewardAmount_sat': 67500000000, 'totalAmountAfterFee_sat': 67027500000}, '51990': {'totalShares': 2, 'fee': 0.007, 'rewardAmount_sat': 67500000000, 'totalAmountAfterFee_sat': 67027500000}, '52006': {'totalShares': 1, 'fee': 0.007, 'rewardAmount_sat': 67500000000, 'totalAmountAfterFee_sat': 67027500000}, '52082': {'totalShares': 1, 'fee': 0.007, 'rewardAmount_sat': 67500000000, 'totalAmountAfterFee_sat': 67027500000}, '52028': {'totalShares': 1, 'fee': 0.007, 'rewardAmount_sat': 67500000000, 'totalAmountAfterFee_sat': 67027500000}, '52049': {'totalShares': 1, 'fee': 0.007, 'rewardAmount_sat': 67500000000, 'totalAmountAfterFee_sat': 67027500000}, '52063': {'totalShares': 1, 'fee': 0.007, 'rewardAmount_sat': 67500000000, 'totalAmountAfterFee_sat': 67027500000}, '52030': {'totalShares': 2, 'fee': 0.007, 'rewardAmount_sat': 67500000000, 'totalAmountAfterFee_sat': 67027500000}, '52032': {'totalShares': 1, 'fee': 0.007, 'rewardAmount_sat': 67500000000, 'totalAmountAfterFee_sat': 67027500000}, '52012': {'totalShares': 1, 'fee': 0.007, 'rewardAmount_sat': 67500000000, 'totalAmountAfterFee_sat': 67027500000}, '52066': {'totalShares': 1, 'fee': 0.007, 'rewardAmount_sat': 67500000000, 'totalAmountAfterFee_sat': 67027500000}, '52003': {'totalShares': 1, 'fee': 0.007, 'rewardAmount_sat': 67500000000, 'totalAmountAfterFee_sat': 67027500000}, '52013': {'totalShares': 1, 'fee': 0.007, 'rewardAmount_sat': 67500000000, 'totalAmountAfterFee_sat': 67027500000}, '52014': {'totalShares': 1, 'fee': 0.007, 'rewardAmount_sat': 67500000000, 'totalAmountAfterFee_sat': 67027500000}, '52021': {'totalShares': 5, 'fee': 0.007, 'rewardAmount_sat': 67500000000, 'totalAmountAfterFee_sat': 67027500000}, '52051': {'totalShares': 1, 'fee': 0.007, 'rewardAmount_sat': 67500000000, 'totalAmountAfterFee_sat': 67027500000}, '51992': {'totalShares': 2, 'fee': 0.007, 'rewardAmount_sat': 67500000000, 'totalAmountAfterFee_sat': 67027500000}, '52054': {'totalShares': 1, 'fee': 0.007, 'rewardAmount_sat': 67500000000, 'totalAmountAfterFee_sat': 67027500000}, '51986': {'totalShares': 5, 'fee': 0.007, 'rewardAmount_sat': 67500000000, 'totalAmountAfterFee_sat': 67027500000}, '52069': {'totalShares': 2, 'fee': 0.007, 'rewardAmount_sat': 67500000000, 'totalAmountAfterFee_sat': 67027500000}, '52007': {'totalShares': 1, 'fee': 0.007, 'rewardAmount_sat': 67500000000, 'totalAmountAfterFee_sat': 67027500000}, '51767': {'totalShares': 1, 'fee': 0.007, 'rewardAmount_sat': 67500000000, 'totalAmountAfterFee_sat': 67027500000}, '52016': {'totalShares': 1, 'fee': 0.007, 'rewardAmount_sat': 67500000000, 'totalAmountAfterFee_sat': 67027500000}, '52011': {'totalShares': 1, 'fee': 0.007, 'rewardAmount_sat': 67500000000, 'totalAmountAfterFee_sat': 67027500000}, '52036': {'totalShares': 1, 'fee': 0.007, 'rewardAmount_sat': 67500000000, 'totalAmountAfterFee_sat': 67027500000}, '52010': {'totalShares': 4, 'fee': 0.007, 'rewardAmount_sat': 67500000000, 'totalAmountAfterFee_sat': 67027500000}, '51993': {'totalShares': 1, 'fee': 0.007, 'rewardAmount_sat': 67500000000, 'totalAmountAfterFee_sat': 67027500000}, '52008': {'totalShares': 1, 'fee': 0.007, 'rewardAmount_sat': 67500000000, 'totalAmountAfterFee_sat': 67027500000}, '52064': {'totalShares': 2, 'fee': 0.007, 'rewardAmount_sat': 67500000000, 'totalAmountAfterFee_sat': 67027500000}, '52077': {'totalShares': 1, 'fee': 0.007, 'rewardAmount_sat': 67500000000, 'totalAmountAfterFee_sat': 67027500000}, '52045': {'totalShares': 2, 'fee': 0.007, 'rewardAmount_sat': 67500000000, 'totalAmountAfterFee_sat': 67027500000}, '52053': {'totalShares': 1, 'fee': 0.007, 'rewardAmount_sat': 67500000000, 'totalAmountAfterFee_sat': 67027500000}, '51997': {'totalShares': 1, 'fee': 0.007, 'rewardAmount_sat': 67500000000, 'totalAmountAfterFee_sat': 67027500000}, '52023': {'totalShares': 1, 'fee': 0.007, 'rewardAmount_sat': 67500000000, 'totalAmountAfterFee_sat': 67027500000}, '51768': {'totalShares': 1, 'fee': 0.007, 'rewardAmount_sat': 67500000000, 'totalAmountAfterFee_sat': 67027500000}, '52081': {'totalShares': 1, 'fee': 0.007, 'rewardAmount_sat': 67500000000, 'totalAmountAfterFee_sat': 67027500000}, '52038': {'totalShares': 1, 'fee': 0.007, 'rewardAmount_sat': 67500000000, 'totalAmountAfterFee_sat': 67027500000}, '52080': {'totalShares': 1, 'fee': 0.007, 'rewardAmount_sat': 67500000000, 'totalAmountAfterFee_sat': 67027500000}, '52056': {'totalShares': 3, 'fee': 0.007, 'rewardAmount_sat': 67500000000, 'totalAmountAfterFee_sat': 67027500000}, '51991': {'totalShares': 5, 'fee': 0.007, 'rewardAmount_sat': 67500000000, 'totalAmountAfterFee_sat': 67027500000}, '52018': {'totalShares': 2, 'fee': 0.007, 'rewardAmount_sat': 67500000000, 'totalAmountAfterFee_sat': 67027500000}, '52050': {'totalShares': 2, 'fee': 0.007, 'rewardAmount_sat': 67500000000, 'totalAmountAfterFee_sat': 67027500000}, '52073': {'totalShares': 1, 'fee': 0.007, 'rewardAmount_sat': 67500000000, 'totalAmountAfterFee_sat': 67027500000}, '52076': {'totalShares': 1, 'fee': 0.007, 'rewardAmount_sat': 67500000000, 'totalAmountAfterFee_sat': 67027500000}, '52072': {'totalShares': 1, 'fee': 0.007, 'rewardAmount_sat': 67500000000, 'totalAmountAfterFee_sat': 67027500000}, '52067': {'totalShares': 2, 'fee': 0.007, 'rewardAmount_sat': 67500000000, 'totalAmountAfterFee_sat': 67027500000}, '52009': {'totalShares': 1, 'fee': 0.007, 'rewardAmount_sat': 67500000000, 'totalAmountAfterFee_sat': 67027500000}, '52029': {'totalShares': 1, 'fee': 0.007, 'rewardAmount_sat': 67500000000, 'totalAmountAfterFee_sat': 67027500000}, '51765': {'totalShares': 1, 'fee': 0.007, 'rewardAmount_sat': 67500000000, 'totalAmountAfterFee_sat': 67027500000}, '52033': {'totalShares': 2, 'fee': 0.007, 'rewardAmount_sat': 67500000000, 'totalAmountAfterFee_sat': 67027500000}, '51999': {'totalShares': 1, 'fee': 0.007, 'rewardAmount_sat': 67500000000, 'totalAmountAfterFee_sat': 67027500000}, '52084': {'totalShares': 1, 'fee': 0.007, 'rewardAmount_sat': 67500000000, 'totalAmountAfterFee_sat': 67027500000}, '51994': {'totalShares': 1, 'fee': 0.007, 'rewardAmount_sat': 67500000000, 'totalAmountAfterFee_sat': 67027500000}, '51982': {'totalShares': 3, 'fee': 0.007, 'rewardAmount_sat': 67500000000, 'totalAmountAfterFee_sat': 67027500000}, '52043': {'totalShares': 1, 'fee': 0.007, 'rewardAmount_sat': 67500000000, 'totalAmountAfterFee_sat': 67027500000}, '52055': {'totalShares': 1, 'fee': 0.007, 'rewardAmount_sat': 67500000000, 'totalAmountAfterFee_sat': 67027500000}, '52046': {'totalShares': 4, 'fee': 0.007, 'rewardAmount_sat': 67500000000, 'totalAmountAfterFee_sat': 67027500000}, '52071': {'totalShares': 1, 'fee': 0.007, 'rewardAmount_sat': 67500000000, 'totalAmountAfterFee_sat': 67027500000}, '52068': {'totalShares': 1, 'fee': 0.007, 'rewardAmount_sat': 67500000000, 'totalAmountAfterFee_sat': 67027500000}, '52002': {'totalShares': 1, 'fee': 0.007, 'rewardAmount_sat': 67500000000, 'totalAmountAfterFee_sat': 67027500000}, '52070': {'totalShares': 2, 'fee': 0.007, 'rewardAmount_sat': 67500000000, 'totalAmountAfterFee_sat': 67027500000}, '52075': {'totalShares': 1, 'fee': 0.007, 'rewardAmount_sat': 67500000000, 'totalAmountAfterFee_sat': 67027500000}, '52041': {'totalShares': 2, 'fee': 0.007, 'rewardAmount_sat': 67500000000, 'totalAmountAfterFee_sat': 67027500000}, '52085': {'totalShares': 1, 'fee': 0.007, 'rewardAmount_sat': 67500000000, 'totalAmountAfterFee_sat': 67027500000}, '51766': {'totalShares': 1, 'fee': 0.007, 'rewardAmount_sat': 67500000000, 'totalAmountAfterFee_sat': 67027500000}, '52022': {'totalShares': 1, 'fee': 0.007, 'rewardAmount_sat': 67500000000, 'totalAmountAfterFee_sat': 67027500000}, '51995': {'totalShares': 2, 'fee': 0.007, 'rewardAmount_sat': 67500000000, 'totalAmountAfterFee_sat': 67027500000}, '52058': {'totalShares': 1, 'fee': 0.007, 'rewardAmount_sat': 67500000000, 'totalAmountAfterFee_sat': 67027500000}, '52039': {'totalShares': 1, 'fee': 0.007, 'rewardAmount_sat': 67500000000, 'totalAmountAfterFee_sat': 67027500000}, '51996': {'totalShares': 1, 'fee': 0.007, 'rewardAmount_sat': 67500000000, 'totalAmountAfterFee_sat': 67027500000}, '52017': {'totalShares': 1, 'fee': 0.007, 'rewardAmount_sat': 67500000000, 'totalAmountAfterFee_sat': 67027500000}, '52019': {'totalShares': 1, 'fee': 0.007, 'rewardAmount_sat': 67500000000, 'totalAmountAfterFee_sat': 67027500000}}\n"
     ]
    }
   ]
  },
  {
   "source": [
    "All stats for waiting found; store in db"
   ],
   "cell_type": "markdown",
   "metadata": {}
  },
  {
   "source": [
    "db = 'payouts.db'\n",
    "with sqlite3.connect(db) as sql:\n",
    "    sql.execute(\"drop table payouts\")\n",
    "\n",
    "with sqlite3.connect(db) as sql:\n",
    "    sql.execute(\"\"\"\n",
    "        create table if not exists payouts (\n",
    "            id integer not null primary key autoincrement,\n",
    "            block text,\n",
    "            miner text,\n",
    "            worker text,\n",
    "            rig text,\n",
    "            status text,\n",
    "            workerShares integer,\n",
    "            workerShares_erg integer,\n",
    "            blockReward_sat integer,\n",
    "            poolFee_pct real,\n",
    "            totalBlockShares integer,\n",
    "            totalAmountAfterFee_sat integer,\n",
    "            pendingBatchId text,\n",
    "            payoutBatchAmount_erg real,\n",
    "            paidTransactionId text,\n",
    "            _timestampWaiting datetime,\n",
    "            _timestampPending datetime,\n",
    "            _timestampPaid datetime\n",
    "        )\n",
    "    \"\"\")\n"
   ],
   "cell_type": "code",
   "metadata": {},
   "execution_count": null,
   "outputs": []
  },
  {
   "source": [
    "with sqlite3.connect(db) as sql:\n",
    "    sql.execute(\"\"\"insert into payouts (block, miner, worker, rig, status, workerShares, workerShares_erg, blockReward_sat, poolFee_pct, totalBlockShares, totalAmountAfterFee_sat, pendingBatchId, payoutBatchAmount_erg, paidTransactionId, _timestampWaiting, _timestampPending, _timestampPaid)\n",
    "        values (\n",
    "            '123abc456def'\n",
    "            , 'minername.rig'\n",
    "            , 'minername'\n",
    "            , 'rig'\n",
    "            , '_testing'\n",
    "            , 33\n",
    "            , 45.5\n",
    "            , 100000000000\n",
    "            , 0.01\n",
    "            , 66\n",
    "            , 99000000000\n",
    "            , '1234-5678-abcd-0000'\n",
    "            , 91.1\n",
    "            , 'xyzpdq'\n",
    "            , strftime('%Y-%m-%dT%H:%M:%f', 'now')\n",
    "            , datetime('now')\n",
    "            , julianday('now')\n",
    "        )\n",
    "        \"\"\")\n",
    "\n",
    "# with sqlite3.connect(db) as sql:\n",
    "#     for r in sql.execute('select * from payouts'):\n",
    "#         logging.debug(r)\n",
    "    \n",
    "df = pd.read_sql_query('select * from payouts', con=con)\n",
    "logging.debug(df)\n",
    "\n",
    "# reset\n",
    "with sqlite3.connect(db) as sql: sql.execute(\"drop table payouts\")\n",
    "for round in [51762, 51763, 51765, 51766, 51767, 51768]: red.rename(f'ergo:shares:payout{round}', f'ergo:shares:round{round}')"
   ],
   "cell_type": "code",
   "metadata": {},
   "execution_count": null,
   "outputs": []
  },
  {
   "cell_type": "code",
   "execution_count": 15,
   "metadata": {
    "tags": []
   },
   "outputs": [
    {
     "output_type": "stream",
     "name": "stdout",
     "text": [
      "{'52034': 0, '51985': 0, '51763': 0, '52057': 0, '51988': 0, '52027': 0, '52024': 0, '52060': 0, '51989': 0, '52040': 0, '52065': 0, '52061': 0, '52005': 0, '52037': 0, '51983': 0, '52052': 0, '51998': 0, '52079': 0, '52048': 0, '52047': 0, '52074': 0, '52083': 0, '52004': 0, '51987': 0, '52044': 0, '52000': 0, '52025': 0, '52031': 0, '52020': 0, '51984': 0, '52026': 0, '52001': 0, '52086': 0, '51762': 0, '52062': 0, '52042': 0, '52059': 0, '52015': 0, '52035': 0, '52078': 0, '51990': 0, '52006': 0, '52082': 0, '52028': 0, '52049': 0, '52063': 0, '52030': 0, '52032': 0, '52012': 0, '52066': 0, '52003': 0, '52013': 0, '52014': 0, '52021': 0, '52051': 0, '51992': 0, '52054': 0, '51986': 0, '52069': 0, '52007': 0, '51767': 0, '52016': 0, '52011': 0, '52036': 0, '52010': 0, '51993': 0, '52008': 0, '52064': 0, '52077': 0, '52045': 0, '52053': 0, '51997': 0, '52023': 0, '51768': 0, '52081': 0, '52038': 0, '52080': 0, '52056': 0, '51991': 0, '52018': 0, '52050': 0, '52073': 0, '52076': 0, '52072': 0, '52067': 0, '52009': 0, '52029': 0, '51765': 0, '52033': 0, '51999': 0, '52084': 0, '51994': 0, '51982': 0, '52043': 0, '52055': 0, '52046': 0, '52071': 0, '52068': 0, '52002': 0, '52070': 0, '52075': 0, '52041': 0, '52085': 0, '51766': 0, '52022': 0, '51995': 0, '52058': 0, '52039': 0, '51996': 0, '52017': 0, '52019': 0}\n"
     ]
    }
   ],
   "source": [
    "rows = []\n",
    "rounds = {}\n",
    "for block in blocks:\n",
    "    for miner in miners[block]:\n",
    "        if blocks[block]['rewardAmount_sat'] > 0:\n",
    "            totalAmountAfterFee_sat = int(blocks[block]['rewardAmount_sat']) - (int(blocks[block]['rewardAmount_sat'])*fee)\n",
    "            workerShares_erg = (int(miners[block][miner]['shares'])/int(blocks[block]['totalShares'])) * totalAmountAfterFee_sat / 1000000000\n",
    "            rows.append([block, miner, miners[block][miner]['worker'], miners[block][miner]['rig'], 'waiting', miners[block][miner]['shares'], workerShares_erg, blocks[block]['rewardAmount_sat'], fee, blocks[block]['totalShares'], totalAmountAfterFee_sat, '', 0.0, '', datetime.now().isoformat(), '', ''])    \n",
    "            rounds[block] = 0\n",
    "df = pd.DataFrame(rows, columns=['block', ' miner', ' worker', ' rig', ' status', ' workerShares', ' workerShares_erg', ' blockReward_sat', ' poolFee_pct', ' totalBlockShares', 'totalAmountAfterFee_sat', ' pendingBatchId', ' payoutBatchAmount_erg', ' paidTransactionId', ' _timestampWaiting', ' _timestampPending', ' _timestampPaid'])\n",
    "print(rounds)"
   ]
  },
  {
   "cell_type": "code",
   "execution_count": 13,
   "metadata": {},
   "outputs": [
    {
     "output_type": "stream",
     "name": "stderr",
     "text": [
      "INFO:saving new shares to database...\n",
      "INFO:renaming redis key, ergo:shares:round52034...\n",
      "INFO:renaming redis key, ergo:shares:round51985...\n",
      "INFO:renaming redis key, ergo:shares:round51763...\n",
      "INFO:renaming redis key, ergo:shares:round52057...\n",
      "INFO:renaming redis key, ergo:shares:round51988...\n",
      "INFO:renaming redis key, ergo:shares:round52027...\n",
      "INFO:renaming redis key, ergo:shares:round52024...\n",
      "INFO:renaming redis key, ergo:shares:round52060...\n",
      "INFO:renaming redis key, ergo:shares:round51989...\n",
      "INFO:renaming redis key, ergo:shares:round52040...\n",
      "INFO:renaming redis key, ergo:shares:round52065...\n",
      "INFO:renaming redis key, ergo:shares:round52061...\n",
      "INFO:renaming redis key, ergo:shares:round52005...\n",
      "INFO:renaming redis key, ergo:shares:round52037...\n",
      "INFO:renaming redis key, ergo:shares:round51983...\n",
      "INFO:renaming redis key, ergo:shares:round52052...\n",
      "INFO:renaming redis key, ergo:shares:round51998...\n",
      "INFO:renaming redis key, ergo:shares:round52079...\n",
      "INFO:renaming redis key, ergo:shares:round52048...\n",
      "INFO:renaming redis key, ergo:shares:round52047...\n",
      "INFO:renaming redis key, ergo:shares:round52074...\n",
      "INFO:renaming redis key, ergo:shares:round52083...\n",
      "INFO:renaming redis key, ergo:shares:round52004...\n",
      "INFO:renaming redis key, ergo:shares:round51987...\n",
      "INFO:renaming redis key, ergo:shares:round52044...\n",
      "INFO:renaming redis key, ergo:shares:round52000...\n",
      "INFO:renaming redis key, ergo:shares:round52025...\n",
      "INFO:renaming redis key, ergo:shares:round52031...\n",
      "INFO:renaming redis key, ergo:shares:round52020...\n",
      "INFO:renaming redis key, ergo:shares:round51984...\n",
      "INFO:renaming redis key, ergo:shares:round52026...\n",
      "INFO:renaming redis key, ergo:shares:round52001...\n",
      "INFO:renaming redis key, ergo:shares:round52086...\n",
      "INFO:renaming redis key, ergo:shares:round51762...\n",
      "INFO:renaming redis key, ergo:shares:round52062...\n",
      "INFO:renaming redis key, ergo:shares:round52042...\n",
      "INFO:renaming redis key, ergo:shares:round52059...\n",
      "INFO:renaming redis key, ergo:shares:round52015...\n",
      "INFO:renaming redis key, ergo:shares:round52035...\n",
      "INFO:renaming redis key, ergo:shares:round52078...\n",
      "INFO:renaming redis key, ergo:shares:round51990...\n",
      "INFO:renaming redis key, ergo:shares:round52006...\n",
      "INFO:renaming redis key, ergo:shares:round52082...\n",
      "INFO:renaming redis key, ergo:shares:round52028...\n",
      "INFO:renaming redis key, ergo:shares:round52049...\n",
      "INFO:renaming redis key, ergo:shares:round52063...\n",
      "INFO:renaming redis key, ergo:shares:round52030...\n",
      "INFO:renaming redis key, ergo:shares:round52032...\n",
      "INFO:renaming redis key, ergo:shares:round52012...\n",
      "INFO:renaming redis key, ergo:shares:round52066...\n",
      "INFO:renaming redis key, ergo:shares:round52003...\n",
      "INFO:renaming redis key, ergo:shares:round52013...\n",
      "INFO:renaming redis key, ergo:shares:round52014...\n",
      "INFO:renaming redis key, ergo:shares:round52021...\n",
      "INFO:renaming redis key, ergo:shares:round52051...\n",
      "INFO:renaming redis key, ergo:shares:round51992...\n",
      "INFO:renaming redis key, ergo:shares:round52054...\n",
      "INFO:renaming redis key, ergo:shares:round51986...\n",
      "INFO:renaming redis key, ergo:shares:round52069...\n",
      "INFO:renaming redis key, ergo:shares:round52007...\n",
      "INFO:renaming redis key, ergo:shares:round51767...\n",
      "INFO:renaming redis key, ergo:shares:round52016...\n",
      "INFO:renaming redis key, ergo:shares:round52011...\n",
      "INFO:renaming redis key, ergo:shares:round52036...\n",
      "INFO:renaming redis key, ergo:shares:round52010...\n",
      "INFO:renaming redis key, ergo:shares:round51993...\n",
      "INFO:renaming redis key, ergo:shares:round52008...\n",
      "INFO:renaming redis key, ergo:shares:round52064...\n",
      "INFO:renaming redis key, ergo:shares:round52077...\n",
      "INFO:renaming redis key, ergo:shares:round52045...\n",
      "INFO:renaming redis key, ergo:shares:round52053...\n",
      "INFO:renaming redis key, ergo:shares:round51997...\n",
      "INFO:renaming redis key, ergo:shares:round52023...\n",
      "INFO:renaming redis key, ergo:shares:round51768...\n",
      "INFO:renaming redis key, ergo:shares:round52081...\n",
      "INFO:renaming redis key, ergo:shares:round52038...\n",
      "INFO:renaming redis key, ergo:shares:round52080...\n",
      "INFO:renaming redis key, ergo:shares:round52056...\n",
      "INFO:renaming redis key, ergo:shares:round51991...\n",
      "INFO:renaming redis key, ergo:shares:round52018...\n",
      "INFO:renaming redis key, ergo:shares:round52050...\n",
      "INFO:renaming redis key, ergo:shares:round52073...\n",
      "INFO:renaming redis key, ergo:shares:round52076...\n",
      "INFO:renaming redis key, ergo:shares:round52072...\n",
      "INFO:renaming redis key, ergo:shares:round52067...\n",
      "INFO:renaming redis key, ergo:shares:round52009...\n",
      "INFO:renaming redis key, ergo:shares:round52029...\n",
      "INFO:renaming redis key, ergo:shares:round51765...\n",
      "INFO:renaming redis key, ergo:shares:round52033...\n",
      "INFO:renaming redis key, ergo:shares:round51999...\n",
      "INFO:renaming redis key, ergo:shares:round52084...\n",
      "INFO:renaming redis key, ergo:shares:round51994...\n",
      "INFO:renaming redis key, ergo:shares:round51982...\n",
      "INFO:renaming redis key, ergo:shares:round51982...\n",
      "ERROR:no such key\n"
     ]
    }
   ],
   "source": [
    "rows = []\n",
    "for block in blocks:\n",
    "    for miner in miners[block]:\n",
    "        if blocks[block]['rewardAmount_sat'] > 0:\n",
    "            totalAmountAfterFee_sat = int(blocks[block]['rewardAmount_sat']) - (int(blocks[block]['rewardAmount_sat'])*fee)\n",
    "            workerShares_erg = (int(miners[block][miner]['shares'])/int(blocks[block]['totalShares'])) * totalAmountAfterFee_sat / 1000000000\n",
    "            rows.append([block, miner, miners[block][miner]['worker'], miners[block][miner]['rig'], 'waiting', miners[block][miner]['shares'], workerShares_erg, blocks[block]['rewardAmount_sat'], fee, blocks[block]['totalShares'], totalAmountAfterFee_sat, '', 0.0, '', datetime.now().isoformat(), '', ''])\n",
    "\n",
    "try :\n",
    "    # add new shares to waiting status\n",
    "    logging.info('saving new shares to database...')\n",
    "    df = pd.DataFrame(rows, columns=['block', 'miner', 'worker', 'rig', 'status', 'workerShares', 'workerShares_erg', 'blockReward_sat', 'poolFee_pct', 'totalBlockShares', 'totalAmountAfterFee_sat', 'pendingBatchId', 'payoutBatchAmount_erg', 'paidTransactionId', '_timestampWaiting', '_timestampPending', '_timestampPaid'])\n",
    "    if len(df) > 0:\n",
    "        df.to_sql('payouts', if_exists='append', con=con, index=False)\n",
    "        \n",
    "        # update rounds so that are not counted again\n",
    "        for round in rounds:\n",
    "            logging.info(f'renaming redis key, ergo:shares:round{round}...')\n",
    "            red.rename(f'ergo:shares:round{round}', f'ergo:shares:payout{round}')\n",
    "\n",
    "except Exception as e:\n",
    "    logging.error(e)\n",
    "\n",
    "# df.to_sql(tbl, con)"
   ]
  },
  {
   "cell_type": "code",
   "execution_count": 22,
   "metadata": {},
   "outputs": [
    {
     "output_type": "stream",
     "name": "stderr",
     "text": [
      "INFO:make payment to worker, 3WvsUJxRgFeDmiFVhmkA6ysqfmRYQwsrWK57Y7BnYEsGnvRTNRbY...\n",
      "DEBUG:log payment info for 3WvsUJxRgFeDmiFVhmkA6ysqfmRYQwsrWK57Y7BnYEsGnvRTNRbY, batch: bd54eaa0-5959-4f36-b008-43d97e2544c3, amount: 3641.8275000000026ergs\n",
      "DEBUG:Starting new HTTP connection (1): localhost\n",
      "DEBUG:http://localhost:9053 \"POST /wallet/payment/send HTTP/1.1\" 200 66\n",
      "INFO:make payment to worker, 3Wz2aYefHaT4VmDNEm53UTr5CwkTinJStNqUbHUJuM2SEAf51SMm...\n",
      "DEBUG:log payment info for 3Wz2aYefHaT4VmDNEm53UTr5CwkTinJStNqUbHUJuM2SEAf51SMm, batch: 8b53a366-d21b-4109-87bf-20c524c6e514, amount: 3798.2250000000026ergs\n",
      "DEBUG:Starting new HTTP connection (1): localhost\n",
      "DEBUG:http://localhost:9053 \"POST /wallet/payment/send HTTP/1.1\" 200 66\n"
     ]
    }
   ],
   "source": [
    "try:\n",
    "    df = pd.read_sql_query(\"select * from payouts where status = 'waiting'\", con=con)\n",
    "    dfTotals = df.groupby(['worker'])['workerShares_erg'].sum().reset_index()\n",
    "    dfPending = dfTotals[dfTotals['workerShares_erg'] >= minPayout]\n",
    "\n",
    "    for r in dfPending.itertuples():\n",
    "        logging.info(f'make payment to worker, {r.worker}...')\n",
    "\n",
    "        batch = str(uuid.uuid4())\n",
    "        logging.debug(f'log payment info for {r.worker}, batch: {batch}, amount: {r.workerShares_erg}ergs')\n",
    "        bdy = [{'address': r.worker, 'value': int(r.workerShares_erg*1000000000), 'assets': []}]\n",
    "        res = requests.post(f'http://{api}:{nod}/wallet/payment/send', headers=hdr, json=bdy)\n",
    "        with sqlite3.connect(db) as sql:\n",
    "            sql.execute(f\"\"\"\n",
    "                update {tbl} \n",
    "                set pendingBatchId = '{batch}'\n",
    "                    , payoutBatchAmount_erg = {r.workerShares_erg}\n",
    "                    , _timestampPending = '{datetime.now().isoformat()}'\n",
    "                    , paidTransactionId = '{json.loads(res.content)}'\n",
    "                    , status = 'pending'\n",
    "                where worker = '{r.worker}'\n",
    "                    and status = 'waiting'\n",
    "                \"\"\")\n",
    "\n",
    "except Exception as e:\n",
    "    logging.error(f'handlePayouts::{e}')\n"
   ]
  },
  {
   "cell_type": "code",
   "execution_count": 19,
   "metadata": {},
   "outputs": [],
   "source": []
  }
 ]
}